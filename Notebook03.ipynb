{
  "nbformat": 4,
  "nbformat_minor": 0,
  "metadata": {
    "colab": {
      "provenance": [],
      "mount_file_id": "16f4uGO_cWnSoiMGNT6A8qKxVamCdWv3P",
      "authorship_tag": "ABX9TyPWnUZ2c9tJgGQjJZenSf00",
      "include_colab_link": true
    },
    "kernelspec": {
      "name": "python3",
      "display_name": "Python 3"
    },
    "language_info": {
      "name": "python"
    }
  },
  "cells": [
    {
      "cell_type": "markdown",
      "metadata": {
        "id": "view-in-github",
        "colab_type": "text"
      },
      "source": [
        "<a href=\"https://colab.research.google.com/github/Lasal0425/ML_Coursework_Breast_Cancer_Detection/blob/main/Notebook03.ipynb\" target=\"_parent\"><img src=\"https://colab.research.google.com/assets/colab-badge.svg\" alt=\"Open In Colab\"/></a>"
      ]
    },
    {
      "cell_type": "code",
      "source": [
        "from google.colab import drive\n",
        "drive.mount('/content/drive')"
      ],
      "metadata": {
        "colab": {
          "base_uri": "https://localhost:8080/"
        },
        "id": "mtHCEPg1b1kt",
        "outputId": "e382c722-138d-4d01-e97e-f33a55a254f4"
      },
      "execution_count": null,
      "outputs": [
        {
          "output_type": "stream",
          "name": "stdout",
          "text": [
            "Drive already mounted at /content/drive; to attempt to forcibly remount, call drive.mount(\"/content/drive\", force_remount=True).\n"
          ]
        }
      ]
    },
    {
      "cell_type": "code",
      "source": [
        "# Import necessary libraries\n",
        "import pandas as pd\n",
        "import numpy as np\n",
        "import matplotlib.pyplot as plt\n",
        "import seaborn as sns\n",
        "from sklearn.model_selection import train_test_split, GridSearchCV, cross_val_score\n",
        "from sklearn.preprocessing import StandardScaler, OneHotEncoder\n",
        "from sklearn.compose import ColumnTransformer\n",
        "from sklearn.pipeline import Pipeline\n",
        "from sklearn.impute import SimpleImputer\n",
        "from sklearn.metrics import accuracy_score, classification_report, confusion_matrix, roc_curve, roc_auc_score, mean_squared_error, r2_score\n",
        "from sklearn.naive_bayes import GaussianNB\n",
        "from sklearn.linear_model import LogisticRegression\n",
        "from sklearn.neighbors import KNeighborsClassifier\n",
        "from sklearn.ensemble import VotingClassifier\n",
        "from sklearn.tree import DecisionTreeRegressor, plot_tree\n",
        "import joblib"
      ],
      "metadata": {
        "id": "7Sur9PIFmkZr"
      },
      "execution_count": null,
      "outputs": []
    },
    {
      "cell_type": "code",
      "source": [
        "# Load the classification dataset\n",
        "df = pd.read_csv('/content/drive/MyDrive/Colab Notebooks/Coursework/cancer_classification_dataset.csv')\n",
        "print(\"Dataset loaded successfully with shape:\", df.shape)\n",
        "print(df.head())"
      ],
      "metadata": {
        "colab": {
          "base_uri": "https://localhost:8080/"
        },
        "id": "hYPvZDqAm1Yf",
        "outputId": "e2bf9eee-9b16-4bd3-b02f-0deba7cda4cc"
      },
      "execution_count": null,
      "outputs": [
        {
          "output_type": "stream",
          "name": "stdout",
          "text": [
            "Dataset loaded successfully with shape: (4024, 16)\n",
            "   Month_of_Birth   Age     Sex T_Stage N_Stage 6th_Stage  \\\n",
            "0              12  68.0  Female      T1      N1       IIA   \n",
            "1              12  50.0  Female      T2      N2      IIIA   \n",
            "2              11  58.0  Female      T3      N3      IIIC   \n",
            "3               3  58.0  Female      T1      N1       IIA   \n",
            "4               1  47.0  Female      T2      N1       IIB   \n",
            "\n",
            "              Differentiated  Grade   A_Stage  Tumor_Size Estrogen_Status  \\\n",
            "0      Poorly differentiated      3  Regional         4.0        Positive   \n",
            "1  Moderately differentiated      2  Regional        35.0        Positive   \n",
            "2  Moderately differentiated      2  Regional        63.0        Positive   \n",
            "3      Poorly differentiated      3  Regional        18.0        Positive   \n",
            "4      Poorly differentiated      3  Regional        41.0        Positive   \n",
            "\n",
            "  Progesterone_Status  Regional_Node_Examined  Reginol_Node_Positive  \\\n",
            "0            Positive                    24.0                      1   \n",
            "1            Positive                    14.0                      5   \n",
            "2            Positive                    14.0                      7   \n",
            "3            Positive                     2.0                      1   \n",
            "4            Positive                     3.0                      1   \n",
            "\n",
            "   Survival_Months Mortality_Status  \n",
            "0               60            Alive  \n",
            "1               62            Alive  \n",
            "2               75            Alive  \n",
            "3               84            Alive  \n",
            "4               50            Alive  \n"
          ]
        }
      ]
    },
    {
      "cell_type": "code",
      "source": [
        "print('Sex categories are:', df['Sex'].unique())\n",
        "print('Sex categories are:', df['T_Stage'].unique())\n",
        "print('Sex categories are:', df['N_Stage'].unique())\n",
        "print('Sex categories are:', df['6th_Stage'].unique())\n",
        "print('Sex categories are:', df['Differentiated'].unique())\n",
        "print('Sex categories are:', df['A_Stage'].unique())\n",
        "print('Sex categories are:', df['Grade'].unique())\n",
        "print('Sex categories are:', df['Estrogen_Status'].unique())\n",
        "print('Sex categories are:', df['Progesterone_Status'].unique())\n",
        "print('Sex categories are:', df['Mortality_Status'].unique())"
      ],
      "metadata": {
        "colab": {
          "base_uri": "https://localhost:8080/"
        },
        "id": "qUcFiM05n2C7",
        "outputId": "e1b4ef75-c4ff-4309-bf82-ed0899be2529"
      },
      "execution_count": null,
      "outputs": [
        {
          "output_type": "stream",
          "name": "stdout",
          "text": [
            "Sex categories are: ['Female' '1']\n",
            "Sex categories are: ['T1' 'T2' 'T3' 'T4']\n",
            "Sex categories are: ['N1' 'N2' 'N3']\n",
            "Sex categories are: ['IIA' 'IIIA' 'IIIC' 'IIB' 'IIIB']\n",
            "Sex categories are: ['Poorly differentiated' 'Moderately differentiated' 'Well differentiated'\n",
            " 'Undifferentiated']\n",
            "Sex categories are: ['Regional' 'Distant']\n",
            "Sex categories are: [3 2 1 4]\n",
            "Sex categories are: ['Positive' 'Negative']\n",
            "Sex categories are: ['Positive' 'Negative']\n",
            "Sex categories are: ['Alive' 'Dead' 'ALIVE' 'DEAD' 'ALive' 'alive' 'dead']\n"
          ]
        }
      ]
    },
    {
      "cell_type": "code",
      "source": [
        "df.info()"
      ],
      "metadata": {
        "colab": {
          "base_uri": "https://localhost:8080/"
        },
        "id": "n4KZ-6xVokB-",
        "outputId": "ffb415a6-1ce7-4bb5-b0aa-2824e3222690"
      },
      "execution_count": null,
      "outputs": [
        {
          "output_type": "stream",
          "name": "stdout",
          "text": [
            "<class 'pandas.core.frame.DataFrame'>\n",
            "RangeIndex: 4024 entries, 0 to 4023\n",
            "Data columns (total 16 columns):\n",
            " #   Column                  Non-Null Count  Dtype  \n",
            "---  ------                  --------------  -----  \n",
            " 0   Month_of_Birth          4024 non-null   int64  \n",
            " 1   Age                     4024 non-null   float64\n",
            " 2   Sex                     4024 non-null   object \n",
            " 3   T_Stage                 4024 non-null   object \n",
            " 4   N_Stage                 4024 non-null   object \n",
            " 5   6th_Stage               4024 non-null   object \n",
            " 6   Differentiated          4024 non-null   object \n",
            " 7   Grade                   4024 non-null   int64  \n",
            " 8   A_Stage                 4024 non-null   object \n",
            " 9   Tumor_Size              4024 non-null   float64\n",
            " 10  Estrogen_Status         4024 non-null   object \n",
            " 11  Progesterone_Status     4024 non-null   object \n",
            " 12  Regional_Node_Examined  4024 non-null   float64\n",
            " 13  Reginol_Node_Positive   4024 non-null   int64  \n",
            " 14  Survival_Months         4024 non-null   int64  \n",
            " 15  Mortality_Status        4024 non-null   object \n",
            "dtypes: float64(3), int64(4), object(9)\n",
            "memory usage: 503.1+ KB\n"
          ]
        }
      ]
    },
    {
      "cell_type": "code",
      "source": [
        "# Convert Mortality_Status values to lowercase\n",
        "df['Mortality_Status'] = df['Mortality_Status'].str.lower()"
      ],
      "metadata": {
        "id": "8t8oZ1FnpCb5"
      },
      "execution_count": null,
      "outputs": []
    },
    {
      "cell_type": "code",
      "source": [
        "# Map all variations to a standard format\n",
        "df['Mortality_Status'] = df['Mortality_Status'].map({\n",
        "    'alive': 'Alive',\n",
        "    'dead': 'Dead',\n",
        "})\n",
        "\n",
        "# Check if there are any remaining inconsistencies\n",
        "inconsistencies = df['Mortality_Status'].unique()\n",
        "print(\"Remaining inconsistencies:\", inconsistencies)"
      ],
      "metadata": {
        "colab": {
          "base_uri": "https://localhost:8080/"
        },
        "id": "OZOWweMurCR0",
        "outputId": "07dc10e5-3794-4661-e6b4-afccd4f033b2"
      },
      "execution_count": null,
      "outputs": [
        {
          "output_type": "stream",
          "name": "stdout",
          "text": [
            "Remaining inconsistencies: ['Alive' 'Dead']\n"
          ]
        }
      ]
    },
    {
      "cell_type": "code",
      "source": [
        "# Import label encoder\n",
        "from sklearn import preprocessing\n",
        "label_encoder = preprocessing.LabelEncoder()"
      ],
      "metadata": {
        "id": "5isgynbAHC90"
      },
      "execution_count": null,
      "outputs": []
    },
    {
      "cell_type": "code",
      "source": [
        "# Encode the categories in each object variable to a numeric form\n",
        "df['Sex'] = label_encoder.fit_transform(df['Sex'])\n",
        "df['T_Stage'] = label_encoder.fit_transform(df['T_Stage'])\n",
        "df['N_Stage'] = label_encoder.fit_transform(df['N_Stage'])\n",
        "df['6th_Stage'] = label_encoder.fit_transform(df['6th_Stage'])\n",
        "df['Differentiated'] = label_encoder.fit_transform(df['Differentiated'])\n",
        "df['A_Stage'] = label_encoder.fit_transform(df['A_Stage'])\n",
        "df['Grade'] = label_encoder.fit_transform(df['Grade'])\n",
        "df['Estrogen_Status'] = label_encoder.fit_transform(df['Estrogen_Status'])\n",
        "df['Progesterone_Status'] = label_encoder.fit_transform(df['Progesterone_Status'])\n",
        "df['Mortality_Status'] = label_encoder.fit_transform(df['Mortality_Status'])\n",
        "\n",
        "# Check the categories' labels after the label encoding transformation is completed\n",
        "print(df['Sex'].unique())\n",
        "print(df['T_Stage'].unique())\n",
        "print(df['N_Stage'].unique())\n",
        "print(df['6th_Stage'].unique())\n",
        "print(df['Differentiated'].unique())\n",
        "print(df['A_Stage'].unique())\n",
        "print(df['Grade'].unique())\n",
        "print(df['Estrogen_Status'].unique())\n",
        "print(df['Progesterone_Status'].unique())\n",
        "print(df['Mortality_Status'].unique())\n"
      ],
      "metadata": {
        "colab": {
          "base_uri": "https://localhost:8080/"
        },
        "id": "hK9DQuk_IrFm",
        "outputId": "daf6f5ba-d8ac-4d6d-83e3-9e901954d560"
      },
      "execution_count": null,
      "outputs": [
        {
          "output_type": "stream",
          "name": "stdout",
          "text": [
            "[1 0]\n",
            "[0 1 2 3]\n",
            "[0 1 2]\n",
            "[0 2 4 1 3]\n",
            "[1 0 3 2]\n",
            "[1 0]\n",
            "[2 1 0 3]\n",
            "[1 0]\n",
            "[1 0]\n",
            "[0 1]\n"
          ]
        }
      ]
    },
    {
      "cell_type": "code",
      "source": [
        "import joblib\n",
        "# Load models\n",
        "knn_model = joblib.load('/content/drive/MyDrive/Colab Notebooks/Coursework/sample_databest_knn_model.pkl')\n",
        "log__model = joblib.load('/content/drive/MyDrive/Colab Notebooks/Coursework/sample_databest_logreg_model.pkl')\n",
        "nb_model = joblib.load('/content/drive/MyDrive/Colab Notebooks/Coursework/sample_databest_naive_bayes_model.pkl')"
      ],
      "metadata": {
        "id": "gcIlKoOPAg5N"
      },
      "execution_count": null,
      "outputs": []
    },
    {
      "cell_type": "code",
      "source": [
        "from sklearn.ensemble import VotingClassifier\n",
        "\n",
        "#create a dictionary of our base learner models\n",
        "base_learners=[('KNN',knn_model), ('LR', log__model)]\n",
        "\n",
        "#create our voting classifier, inputting our models\n",
        "ensemble_learner = VotingClassifier(base_learners, voting='hard')"
      ],
      "metadata": {
        "id": "ceXtB16WAw4y"
      },
      "execution_count": null,
      "outputs": []
    },
    {
      "cell_type": "code",
      "source": [
        "from sklearn.model_selection import train_test_split\n",
        "# Drop unused column for classification\n",
        "X_class = df.drop(columns=[\"Mortality_Status\"])\n",
        "y_class = df[\"Mortality_Status\"]\n",
        "\n",
        "# Split into training and testing\n",
        "X_train, X_test, y_train, y_test = train_test_split(\n",
        "    X_class, y_class, test_size=0.2, stratify=y_class, random_state=42\n",
        ")"
      ],
      "metadata": {
        "id": "HqaijhY_Az4l"
      },
      "execution_count": null,
      "outputs": []
    },
    {
      "cell_type": "code",
      "source": [
        "#fit model to training data\n",
        "ensemble_learner = ensemble_learner.fit(X_train, y_train)\n",
        "y_pred_ensembler = ensemble_learner.predict(X_test)\n",
        "\n",
        "# Evaluate your ensemble model by generating the classification report and the confusion matrix\n",
        "from sklearn.metrics import classification_report\n",
        "print(\"Classification report for Ensmebler\")\n",
        "print(classification_report(y_test,y_pred_ensembler))\n",
        "\n",
        "from sklearn.metrics import confusion_matrix\n",
        "from sklearn.metrics import ConfusionMatrixDisplay\n",
        "\n",
        "print(\"confusion_matrix for ensember learner\")\n",
        "ensemble_learner_cm=confusion_matrix(y_test,y_pred_ensembler)\n",
        "disp=ConfusionMatrixDisplay(confusion_matrix=ensemble_learner_cm,display_labels = ensemble_learner.classes_)\n",
        "disp.plot()"
      ],
      "metadata": {
        "colab": {
          "base_uri": "https://localhost:8080/",
          "height": 657
        },
        "id": "SVW5WDinBCZT",
        "outputId": "10108859-c262-4f5e-d39f-b6e5f04bafe6"
      },
      "execution_count": null,
      "outputs": [
        {
          "output_type": "stream",
          "name": "stdout",
          "text": [
            "Classification report for Ensmebler\n",
            "              precision    recall  f1-score   support\n",
            "\n",
            "           0       0.89      0.99      0.93       682\n",
            "           1       0.80      0.29      0.43       123\n",
            "\n",
            "    accuracy                           0.88       805\n",
            "   macro avg       0.84      0.64      0.68       805\n",
            "weighted avg       0.87      0.88      0.86       805\n",
            "\n",
            "confusion_matrix for ensember learner\n"
          ]
        },
        {
          "output_type": "execute_result",
          "data": {
            "text/plain": [
              "<sklearn.metrics._plot.confusion_matrix.ConfusionMatrixDisplay at 0x7a077be34bd0>"
            ]
          },
          "metadata": {},
          "execution_count": 22
        },
        {
          "output_type": "display_data",
          "data": {
            "text/plain": [
              "<Figure size 640x480 with 2 Axes>"
            ],
            "image/png": "[encoded data removed]"
          },
          "metadata": {}
        }
      ]
    },
    {
      "cell_type": "code",
      "source": [
        "from sklearn.ensemble import VotingClassifier\n",
        "\n",
        "#create a dictionary of our base learner models\n",
        "base_learners=[('KNN',knn_model), ('LR', log__model)]\n",
        "\n",
        "#create our voting classifier, inputting our models\n",
        "ensemble_learner = VotingClassifier(base_learners, voting='soft')"
      ],
      "metadata": {
        "id": "k-7Enm4gENtZ"
      },
      "execution_count": null,
      "outputs": []
    },
    {
      "cell_type": "code",
      "source": [
        "#fit model to training data\n",
        "ensemble_learner = ensemble_learner.fit(X_train, y_train)\n",
        "y_pred_ensembler = ensemble_learner.predict(X_test)\n",
        "\n",
        "# Evaluate your ensemble model by generating the classification report and the confusion matrix\n",
        "from sklearn.metrics import classification_report\n",
        "print(\"Classification report for Ensmebler\")\n",
        "print(classification_report(y_test,y_pred_ensembler))\n",
        "\n",
        "from sklearn.metrics import confusion_matrix\n",
        "from sklearn.metrics import ConfusionMatrixDisplay\n",
        "\n",
        "print(\"confusion_matrix for ensember learner\")\n",
        "ensemble_learner_cm=confusion_matrix(y_test,y_pred_ensembler)\n",
        "disp=ConfusionMatrixDisplay(confusion_matrix=ensemble_learner_cm,display_labels = ensemble_learner.classes_)\n",
        "disp.plot()"
      ],
      "metadata": {
        "colab": {
          "base_uri": "https://localhost:8080/",
          "height": 657
        },
        "id": "PCGwY5amEQiY",
        "outputId": "91654b75-fdf8-440a-d4be-256d52cb80d8"
      },
      "execution_count": null,
      "outputs": [
        {
          "output_type": "stream",
          "name": "stdout",
          "text": [
            "Classification report for Ensmebler\n",
            "              precision    recall  f1-score   support\n",
            "\n",
            "           0       0.89      0.98      0.94       682\n",
            "           1       0.79      0.36      0.49       123\n",
            "\n",
            "    accuracy                           0.89       805\n",
            "   macro avg       0.84      0.67      0.71       805\n",
            "weighted avg       0.88      0.89      0.87       805\n",
            "\n",
            "confusion_matrix for ensember learner\n"
          ]
        },
        {
          "output_type": "execute_result",
          "data": {
            "text/plain": [
              "<sklearn.metrics._plot.confusion_matrix.ConfusionMatrixDisplay at 0x7a078232c990>"
            ]
          },
          "metadata": {},
          "execution_count": 24
        },
        {
          "output_type": "display_data",
          "data": {
            "text/plain": [
              "<Figure size 640x480 with 2 Axes>"
            ],
            "image/png": "[encoded data removed]"
          },
          "metadata": {}
        }
      ]
    },
    {
      "cell_type": "code",
      "source": [
        "import pandas as pd\n",
        "from sklearn.model_selection import train_test_split\n",
        "from sklearn.preprocessing import LabelEncoder\n",
        "\n",
        "# Load dataset\n",
        "df = pd.read_csv('/content/drive/MyDrive/cancer_regression_dataset.csv')\n",
        "\n",
        "# Encode categorical variables\n",
        "cat_cols = ['Sex','T_Stage','N_Stage','6th_Stage','Differentiated','Grade','A_Stage','Estrogen_Status','Progesterone_Status']\n",
        "le = LabelEncoder()\n",
        "for col in cat_cols:\n",
        "    df[col] = le.fit_transform(df[col])\n",
        "\n",
        "# Prepare features and target\n",
        "X = df.drop(['Survival_Months', 'Mortality_Status'], axis=1)\n",
        "y = df['Survival_Months']\n",
        "\n",
        "# Split data with stratification\n",
        "X_train, X_test, y_train, y_test = train_test_split(X, y, test_size=0.4, random_state=43)"
      ],
      "metadata": {
        "id": "aosfr8e0EUdo"
      },
      "execution_count": null,
      "outputs": []
    }
  ]
}