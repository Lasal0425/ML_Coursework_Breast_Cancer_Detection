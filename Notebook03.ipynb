{
  "nbformat": 4,
  "nbformat_minor": 0,
  "metadata": {
    "colab": {
      "provenance": [],
      "authorship_tag": "ABX9TyOXM9ZUQo2hd/MOG+0z580f",
      "include_colab_link": true
    },
    "kernelspec": {
      "name": "python3",
      "display_name": "Python 3"
    },
    "language_info": {
      "name": "python"
    }
  },
  "cells": [
    {
      "cell_type": "markdown",
      "metadata": {
        "id": "view-in-github",
        "colab_type": "text"
      },
      "source": [
        "<a href=\"https://colab.research.google.com/github/Lasal0425/ML_Coursework_Breast_Cancer_Detection/blob/main/Notebook03.ipynb\" target=\"_parent\"><img src=\"https://colab.research.google.com/assets/colab-badge.svg\" alt=\"Open In Colab\"/></a>"
      ]
    },
    {
      "cell_type": "code",
      "source": [
        "from google.colab import drive\n",
        "drive.mount('/content/drive')"
      ],
      "metadata": {
        "colab": {
          "base_uri": "https://localhost:8080/"
        },
        "id": "mtHCEPg1b1kt",
        "outputId": "9dcf1536-06b5-456b-ea8d-b69185410791"
      },
      "execution_count": 1,
      "outputs": [
        {
          "output_type": "stream",
          "name": "stdout",
          "text": [
            "Mounted at /content/drive\n"
          ]
        }
      ]
    },
    {
      "cell_type": "code",
      "source": [
        "# Import necessary libraries\n",
        "import pandas as pd\n",
        "import numpy as np\n",
        "import matplotlib.pyplot as plt\n",
        "import seaborn as sns\n",
        "from sklearn.model_selection import train_test_split, GridSearchCV, cross_val_score\n",
        "from sklearn.preprocessing import StandardScaler, OneHotEncoder\n",
        "from sklearn.compose import ColumnTransformer\n",
        "from sklearn.pipeline import Pipeline\n",
        "from sklearn.impute import SimpleImputer\n",
        "from sklearn.metrics import accuracy_score, classification_report, confusion_matrix, roc_curve, roc_auc_score, mean_squared_error, r2_score\n",
        "from sklearn.naive_bayes import GaussianNB\n",
        "from sklearn.linear_model import LogisticRegression\n",
        "from sklearn.neighbors import KNeighborsClassifier\n",
        "from sklearn.ensemble import VotingClassifier\n",
        "from sklearn.tree import DecisionTreeRegressor, plot_tree\n",
        "import joblib"
      ],
      "metadata": {
        "id": "7Sur9PIFmkZr"
      },
      "execution_count": 3,
      "outputs": []
    },
    {
      "cell_type": "code",
      "source": [
        "# Load the classification dataset\n",
        "df = pd.read_csv('/content/drive/MyDrive/Colab Notebooks/Coursework/cancer_classification_dataset.csv')\n",
        "print(\"Dataset loaded successfully with shape:\", df.shape)\n",
        "print(df.head())"
      ],
      "metadata": {
        "colab": {
          "base_uri": "https://localhost:8080/"
        },
        "id": "hYPvZDqAm1Yf",
        "outputId": "860279af-9d23-480d-b802-26d00eb985b2"
      },
      "execution_count": 4,
      "outputs": [
        {
          "output_type": "stream",
          "name": "stdout",
          "text": [
            "Dataset loaded successfully with shape: (4024, 16)\n",
            "   Month_of_Birth   Age     Sex T_Stage N_Stage 6th_Stage  \\\n",
            "0              12  68.0  Female      T1      N1       IIA   \n",
            "1              12  50.0  Female      T2      N2      IIIA   \n",
            "2              11  58.0  Female      T3      N3      IIIC   \n",
            "3               3  58.0  Female      T1      N1       IIA   \n",
            "4               1  47.0  Female      T2      N1       IIB   \n",
            "\n",
            "              Differentiated  Grade   A_Stage  Tumor_Size Estrogen_Status  \\\n",
            "0      Poorly differentiated      3  Regional         4.0        Positive   \n",
            "1  Moderately differentiated      2  Regional        35.0        Positive   \n",
            "2  Moderately differentiated      2  Regional        63.0        Positive   \n",
            "3      Poorly differentiated      3  Regional        18.0        Positive   \n",
            "4      Poorly differentiated      3  Regional        41.0        Positive   \n",
            "\n",
            "  Progesterone_Status  Regional_Node_Examined  Reginol_Node_Positive  \\\n",
            "0            Positive                    24.0                      1   \n",
            "1            Positive                    14.0                      5   \n",
            "2            Positive                    14.0                      7   \n",
            "3            Positive                     2.0                      1   \n",
            "4            Positive                     3.0                      1   \n",
            "\n",
            "   Survival_Months Mortality_Status  \n",
            "0               60            Alive  \n",
            "1               62            Alive  \n",
            "2               75            Alive  \n",
            "3               84            Alive  \n",
            "4               50            Alive  \n"
          ]
        }
      ]
    },
    {
      "cell_type": "code",
      "source": [
        "print('Sex categories are:', df['Sex'].unique())\n",
        "print('Sex categories are:', df['T_Stage'].unique())\n",
        "print('Sex categories are:', df['N_Stage'].unique())\n",
        "print('Sex categories are:', df['6th_Stage'].unique())\n",
        "print('Sex categories are:', df['Differentiated'].unique())\n",
        "print('Sex categories are:', df['A_Stage'].unique())\n",
        "print('Sex categories are:', df['Grade'].unique())\n",
        "print('Sex categories are:', df['Estrogen_Status'].unique())\n",
        "print('Sex categories are:', df['Progesterone_Status'].unique())\n",
        "print('Sex categories are:', df['Mortality_Status'].unique())"
      ],
      "metadata": {
        "colab": {
          "base_uri": "https://localhost:8080/"
        },
        "id": "qUcFiM05n2C7",
        "outputId": "c7ddbc7a-dcb2-4d18-efdb-7f10e1e0ca53"
      },
      "execution_count": 10,
      "outputs": [
        {
          "output_type": "stream",
          "name": "stdout",
          "text": [
            "Sex categories are: ['Female' '1']\n",
            "Sex categories are: ['T1' 'T2' 'T3' 'T4']\n",
            "Sex categories are: ['N1' 'N2' 'N3']\n",
            "Sex categories are: ['IIA' 'IIIA' 'IIIC' 'IIB' 'IIIB']\n",
            "Sex categories are: ['Poorly differentiated' 'Moderately differentiated' 'Well differentiated'\n",
            " 'Undifferentiated']\n",
            "Sex categories are: ['Regional' 'Distant']\n",
            "Sex categories are: [3 2 1 4]\n",
            "Sex categories are: ['Positive' 'Negative']\n",
            "Sex categories are: ['Positive' 'Negative']\n",
            "Sex categories are: ['Alive' 'Dead' 'ALIVE' 'DEAD' 'ALive' 'alive' 'dead']\n"
          ]
        }
      ]
    },
    {
      "cell_type": "code",
      "source": [
        "df.info()"
      ],
      "metadata": {
        "colab": {
          "base_uri": "https://localhost:8080/"
        },
        "id": "n4KZ-6xVokB-",
        "outputId": "2509c77e-cf2e-4449-8498-e2c3022bd9e3"
      },
      "execution_count": 11,
      "outputs": [
        {
          "output_type": "stream",
          "name": "stdout",
          "text": [
            "<class 'pandas.core.frame.DataFrame'>\n",
            "RangeIndex: 4024 entries, 0 to 4023\n",
            "Data columns (total 16 columns):\n",
            " #   Column                  Non-Null Count  Dtype  \n",
            "---  ------                  --------------  -----  \n",
            " 0   Month_of_Birth          4024 non-null   int64  \n",
            " 1   Age                     4024 non-null   float64\n",
            " 2   Sex                     4024 non-null   object \n",
            " 3   T_Stage                 4024 non-null   object \n",
            " 4   N_Stage                 4024 non-null   object \n",
            " 5   6th_Stage               4024 non-null   object \n",
            " 6   Differentiated          4024 non-null   object \n",
            " 7   Grade                   4024 non-null   int64  \n",
            " 8   A_Stage                 4024 non-null   object \n",
            " 9   Tumor_Size              4024 non-null   float64\n",
            " 10  Estrogen_Status         4024 non-null   object \n",
            " 11  Progesterone_Status     4024 non-null   object \n",
            " 12  Regional_Node_Examined  4024 non-null   float64\n",
            " 13  Reginol_Node_Positive   4024 non-null   int64  \n",
            " 14  Survival_Months         4024 non-null   int64  \n",
            " 15  Mortality_Status        4024 non-null   object \n",
            "dtypes: float64(3), int64(4), object(9)\n",
            "memory usage: 503.1+ KB\n"
          ]
        }
      ]
    },
    {
      "cell_type": "code",
      "source": [],
      "metadata": {
        "id": "8t8oZ1FnpCb5"
      },
      "execution_count": null,
      "outputs": []
    }
  ]
}